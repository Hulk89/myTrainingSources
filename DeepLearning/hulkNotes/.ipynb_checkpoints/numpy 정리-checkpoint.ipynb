{
 "cells": [
  {
   "cell_type": "markdown",
   "metadata": {},
   "source": [
    "# numpy 정리\n",
    "\n",
    "이 문서에서는 numpy의 여러 함수들을 정리하도록 한다. cs231n에 나오는 함수나, 숙제 시 썼던 함수들을 정리하도록한다."
   ]
  },
  {
   "cell_type": "markdown",
   "metadata": {},
   "source": [
    "## numpy array \n",
    "\n",
    "### numpy array선언\n",
    "`np.array( arg, dtype = np.int32 )`로 array를 만들 수 있다. array의 dimension은 shape로 알 수 있다."
   ]
  },
  {
   "cell_type": "code",
   "execution_count": 1,
   "metadata": {
    "collapsed": false
   },
   "outputs": [
    {
     "name": "stdout",
     "output_type": "stream",
     "text": [
      "X :  (4, 3)\n",
      "\n",
      "[[ 1  2  3]\n",
      " [ 4  5  6]\n",
      " [ 7  8  9]\n",
      " [10 11 12]]\n",
      "W :  (3, 4)\n",
      "\n",
      "[[ 1  2  3  4]\n",
      " [ 5  6  7  8]\n",
      " [ 9 10 11 12]]\n"
     ]
    }
   ],
   "source": [
    "# -*- coding: utf-8 -*-\n",
    "import numpy as np\n",
    "\n",
    "X = np.array([[1,2,3],[4,5,6],[7,8,9],[10,11,12]])\n",
    "W = np.array([[1,2,3,4],[5,6,7,8],[9,10,11,12]])\n",
    "print \"X : \", X.shape\n",
    "print \n",
    "print X\n",
    "\n",
    "print \"W : \", W.shape\n",
    "print \n",
    "print W\n",
    "\n"
   ]
  },
  {
   "cell_type": "markdown",
   "metadata": {},
   "source": [
    "### 내적 ( dot )\n",
    "다음 두가지 방법으로 내적을 할 수 있다."
   ]
  },
  {
   "cell_type": "code",
   "execution_count": 2,
   "metadata": {
    "collapsed": false
   },
   "outputs": [
    {
     "name": "stdout",
     "output_type": "stream",
     "text": [
      "[[ 38  44  50  56]\n",
      " [ 83  98 113 128]\n",
      " [128 152 176 200]\n",
      " [173 206 239 272]]\n",
      "[[ 38  44  50  56]\n",
      " [ 83  98 113 128]\n",
      " [128 152 176 200]\n",
      " [173 206 239 272]]\n"
     ]
    }
   ],
   "source": [
    "dotXW = X.dot(W)\n",
    "print dotXW\n",
    "dotXW2 = np.dot(X,W)\n",
    "print dotXW2"
   ]
  },
  {
   "cell_type": "markdown",
   "metadata": {},
   "source": [
    "### 전치 행렬 (transpose)\n",
    "matrix의 transpose는 .T로 알 수 있다."
   ]
  },
  {
   "cell_type": "code",
   "execution_count": 3,
   "metadata": {
    "collapsed": false
   },
   "outputs": [
    {
     "name": "stdout",
     "output_type": "stream",
     "text": [
      "[[ 1  2  3]\n",
      " [ 4  5  6]\n",
      " [ 7  8  9]\n",
      " [10 11 12]]\n",
      "[[ 1  4  7 10]\n",
      " [ 2  5  8 11]\n",
      " [ 3  6  9 12]]\n"
     ]
    }
   ],
   "source": [
    "Xt = X.T\n",
    "print X\n",
    "print X.T"
   ]
  },
  {
   "cell_type": "markdown",
   "metadata": {},
   "source": [
    "### np.reshape\n",
    "np.reshape( X, (m,n) ) : X를 [m x n]으로 재배열한다. ( 더 많은 dim 가능. ) 마지막 dimension의 순위가 높다."
   ]
  },
  {
   "cell_type": "code",
   "execution_count": 16,
   "metadata": {
    "collapsed": false
   },
   "outputs": [
    {
     "name": "stdout",
     "output_type": "stream",
     "text": [
      "[0 1 2 3 4 5 6 7]\n",
      "[[0 1]\n",
      " [2 3]\n",
      " [4 5]\n",
      " [6 7]]\n",
      "[[0 1 2 3]\n",
      " [4 5 6 7]]\n"
     ]
    }
   ],
   "source": [
    "X = np.arange(8)\n",
    "print X\n",
    "A = np.reshape(X, (4,2))\n",
    "print A\n",
    "B = np.reshape(X, (2,4))\n",
    "print B"
   ]
  },
  {
   "cell_type": "markdown",
   "metadata": {},
   "source": [
    "## numpy 함수들"
   ]
  },
  {
   "cell_type": "markdown",
   "metadata": {},
   "source": [
    "### np.argsort( array )\n",
    "array를 sorting할 때, index를 list로 만들어준다."
   ]
  },
  {
   "cell_type": "code",
   "execution_count": 6,
   "metadata": {
    "collapsed": false
   },
   "outputs": [
    {
     "name": "stdout",
     "output_type": "stream",
     "text": [
      "unsorted :  [  0 100  20  40   5]\n",
      "sortIdx :  [0 4 2 3 1]\n"
     ]
    }
   ],
   "source": [
    "unsorted = np.array([0,100,20,40,5])\n",
    "print \"unsorted : \", unsorted\n",
    "# sort할 때 index를 만들어준다.\n",
    "sortIdx = np.argsort( unsorted )\n",
    "print \"sortIdx : \", sortIdx"
   ]
  },
  {
   "cell_type": "markdown",
   "metadata": {},
   "source": [
    "### np.argmin(X, axis = n)\n",
    "X의 n번째 축을 기준으로 가장 작은 녀석의 index를 리스트로 내보냄.\n",
    "반대로는 np.argmax(X, axis = n)이 있다."
   ]
  },
  {
   "cell_type": "code",
   "execution_count": 7,
   "metadata": {
    "collapsed": false
   },
   "outputs": [
    {
     "name": "stdout",
     "output_type": "stream",
     "text": [
      "[[3 2 3]\n",
      " [4 1 6]\n",
      " [7 9 6]]\n",
      "[0 1 0]\n",
      "[3 1 3]\n",
      "[1 1 2]\n",
      "[2 1 6]\n"
     ]
    }
   ],
   "source": [
    "test = np.array([[3,2,3],[4,1,6],[7,9,6]])\n",
    "minTest = np.argmin(test,axis = 0)\n",
    "print test\n",
    "print minTest\n",
    "print test[minTest,[0,1,2]]\n",
    "\n",
    "minTest = np.argmin(test, axis = 1)\n",
    "print minTest\n",
    "print test[np.arange(test.shape[0]),minTest]"
   ]
  },
  {
   "cell_type": "markdown",
   "metadata": {},
   "source": [
    "### np.sqrt( X )\n",
    "X의 원소를 모두 square root씌운다."
   ]
  },
  {
   "cell_type": "code",
   "execution_count": 26,
   "metadata": {
    "collapsed": false
   },
   "outputs": [
    {
     "name": "stdout",
     "output_type": "stream",
     "text": [
      "[[ 1  2  3]\n",
      " [ 4  5  6]\n",
      " [ 7  8  9]\n",
      " [10 11 12]]\n",
      "[[ 1.          1.41421356  1.73205081]\n",
      " [ 2.          2.23606798  2.44948974]\n",
      " [ 2.64575131  2.82842712  3.        ]\n",
      " [ 3.16227766  3.31662479  3.46410162]]\n"
     ]
    }
   ],
   "source": [
    "sqrtX = np.sqrt(X)\n",
    "print X\n",
    "print sqrtX"
   ]
  },
  {
   "cell_type": "markdown",
   "metadata": {},
   "source": [
    "### np.sqrt( X )\n",
    "X의 모든 원소를 원소별로 제곱한다."
   ]
  },
  {
   "cell_type": "code",
   "execution_count": 40,
   "metadata": {
    "collapsed": false
   },
   "outputs": [
    {
     "name": "stdout",
     "output_type": "stream",
     "text": [
      "[[  1.   2.   3.]\n",
      " [  4.   5.   6.]\n",
      " [  7.   8.   9.]\n",
      " [ 10.  11.  12.]]\n"
     ]
    }
   ],
   "source": [
    "Xr = np.square( sqrtX )\n",
    "print Xr"
   ]
  },
  {
   "cell_type": "markdown",
   "metadata": {},
   "source": [
    "### np.bincount( X )\n",
    "X의 element의 type이 integer일 때, 각 element의 값을 bin의 index로 하여 카운트를 세준다."
   ]
  },
  {
   "cell_type": "code",
   "execution_count": 47,
   "metadata": {
    "collapsed": false
   },
   "outputs": [
    {
     "name": "stdout",
     "output_type": "stream",
     "text": [
      "[0 0 1 1 1 4 5 9 3 3 2 1 3 9]\n",
      "[2 4 1 3 1 1 0 0 0 2]\n"
     ]
    }
   ],
   "source": [
    "X = np.array( [0,0,1,1,1,4,5,9,3,3,2,1,3,9])\n",
    "print X\n",
    "print np.bincount( X )"
   ]
  },
  {
   "cell_type": "markdown",
   "metadata": {},
   "source": [
    "### np.arange()\n",
    "range와 비슷한 것..."
   ]
  },
  {
   "cell_type": "code",
   "execution_count": null,
   "metadata": {
    "collapsed": true
   },
   "outputs": [],
   "source": [
    "np.arange( X.shape[0] ) "
   ]
  },
  {
   "cell_type": "markdown",
   "metadata": {},
   "source": [
    "#### xrange V.S. range\n",
    "xrange는 sequence를 그때그때 만들고 range는 list를 return한다. xrange가 더 빠르대...\n",
    "다음은 어떤 사람이 만들어본 결과...\n",
    "```\n",
    "$ python -m timeit 'for i in range(1000000):' ' pass'\n",
    "10 loops, best of 3: 90.5 msec per loop\n",
    "$ python -m timeit 'for i in xrange(1000000):' ' pass'\n",
    "10 loops, best of 3: 51.1 msec per loop\n",
    "```"
   ]
  },
  {
   "cell_type": "markdown",
   "metadata": {},
   "source": [
    "## Broadcast\n",
    "numpy쓸 때 제일 헷갈리는 녀석!\n",
    "어떤 경우에 broadcast 되는 지 확실히 하자!"
   ]
  },
  {
   "cell_type": "markdown",
   "metadata": {},
   "source": [
    "### Scalar와 matrix의 덧셈\n",
    "이 경우 Scalar의 값을 가진 matrix가 돼서 더해진다."
   ]
  },
  {
   "cell_type": "code",
   "execution_count": 24,
   "metadata": {
    "collapsed": false
   },
   "outputs": [
    {
     "name": "stdout",
     "output_type": "stream",
     "text": [
      "1. scalar와 matrix의 덧셈 \n",
      "X : \n",
      "[[ 1  2  3]\n",
      " [ 4  5  6]\n",
      " [ 7  8  9]\n",
      " [10 11 12]]\n",
      "X + 2 : \n",
      "[[ 3  4  5]\n",
      " [ 6  7  8]\n",
      " [ 9 10 11]\n",
      " [12 13 14]]\n"
     ]
    }
   ],
   "source": [
    "X = np.array([[1,2,3],[4,5,6],[7,8,9],[10,11,12]])\n",
    "print \"1. scalar와 matrix의 덧셈 \"\n",
    "print \"X : \"\n",
    "print X\n",
    "print \"X + 2 : \"\n",
    "print X + 2 # 2가 [[2,2,2],[2,2,2],[2,2,2],[2,2,2]] 가 됨!"
   ]
  },
  {
   "cell_type": "markdown",
   "metadata": {},
   "source": [
    "### Vector와 matrix의 덧셈\n"
   ]
  },
  {
   "cell_type": "code",
   "execution_count": 29,
   "metadata": {
    "collapsed": false
   },
   "outputs": [
    {
     "name": "stdout",
     "output_type": "stream",
     "text": [
      "[[ 1  2  3]\n",
      " [ 4  5  6]\n",
      " [ 7  8  9]\n",
      " [10 11 12]]\n",
      "[[ 2  4  6]\n",
      " [ 5  7  9]\n",
      " [ 8 10 12]\n",
      " [11 13 15]]\n",
      "[[ 2  6 10 14]\n",
      " [ 3  7 11 15]\n",
      " [ 4  8 12 16]]\n"
     ]
    }
   ],
   "source": [
    "X = np.array([[1,2,3],[4,5,6],[7,8,9],[10,11,12]])\n",
    "A = np.array([1,2,3])\n",
    "B = np.array([1,2,3,4])\n",
    "print X\n",
    "print X + A\n",
    "# print X + B.T Error!!!\n",
    "print X.T + B.T"
   ]
  },
  {
   "cell_type": "code",
   "execution_count": null,
   "metadata": {
    "collapsed": true
   },
   "outputs": [],
   "source": []
  }
 ],
 "metadata": {
  "kernelspec": {
   "display_name": "Python 2",
   "language": "python",
   "name": "python2"
  },
  "language_info": {
   "codemirror_mode": {
    "name": "ipython",
    "version": 2
   },
   "file_extension": ".py",
   "mimetype": "text/x-python",
   "name": "python",
   "nbconvert_exporter": "python",
   "pygments_lexer": "ipython2",
   "version": "2.7.11"
  }
 },
 "nbformat": 4,
 "nbformat_minor": 0
}
