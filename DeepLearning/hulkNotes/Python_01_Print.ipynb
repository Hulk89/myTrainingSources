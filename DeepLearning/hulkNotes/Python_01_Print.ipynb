{
 "cells": [
  {
   "cell_type": "markdown",
   "metadata": {},
   "source": [
    "# Python 문법\n",
    "여기서는 python 문법을 간단히 정리한다."
   ]
  },
  {
   "cell_type": "markdown",
   "metadata": {},
   "source": [
    "## print 함수\n",
    "print 함수는 다음과 같이 쓸 수 있다."
   ]
  },
  {
   "cell_type": "code",
   "execution_count": 14,
   "metadata": {
    "collapsed": false
   },
   "outputs": [
    {
     "name": "stdout",
     "output_type": "stream",
     "text": [
      "값 : 1\n",
      "값 : 1\n",
      "값 : 1\n",
      "GG 1, food\n",
      "GG 1, food\n"
     ]
    }
   ],
   "source": [
    "# -*- coding: utf-8 -*-\n",
    "\n",
    "# 여러가지 print 방식\n",
    "myVal = 1\n",
    "print \"값 : \" + str( myVal )\n",
    "print \"값 : %s\" % myVal\n",
    "print \"값 :\", myVal\n",
    "\n",
    "# 한번에 여러 개의 변수를 찍는 방법\n",
    "val1 = 1\n",
    "val2 = \"food\"\n",
    "print \"GG %s, %s\" %(val1, val2)\n",
    "print \"GG \"+ str(val1) + \", \" + val2"
   ]
  },
  {
   "cell_type": "markdown",
   "metadata": {},
   "source": [
    "### Formatter를 사용한 print 기법"
   ]
  },
  {
   "cell_type": "code",
   "execution_count": 17,
   "metadata": {
    "collapsed": false
   },
   "outputs": [
    {
     "name": "stdout",
     "output_type": "stream",
     "text": [
      "I had this thing. That you could type up right. But it didn't sing. So I said goodnight.\n",
      "'I had this thing.' 'That you could type up right.' \"But it didn't sing.\" 'So I said goodnight.'\n"
     ]
    }
   ],
   "source": [
    "formatter1 = \"%s %s %s %s\" \n",
    "formatter2 = \"%r %r %r %r\" \n",
    "print formatter1 % \\\n",
    "( \"I had this thing.\",\\\n",
    " \"That you could type up right.\",\\\n",
    " \"But it didn't sing.\",\\\n",
    " \"So I said goodnight.\" )\n",
    "print formatter2 % \\\n",
    "( \"I had this thing.\",\\\n",
    " \"That you could type up right.\",\\\n",
    " \"But it didn't sing.\",\\\n",
    " \"So I said goodnight.\" )"
   ]
  },
  {
   "cell_type": "markdown",
   "metadata": {},
   "source": [
    "**%r : 디버그 정보를 얻기위해서만 쓰는 formatting.\n",
    "%s를 쓰자!**"
   ]
  },
  {
   "cell_type": "markdown",
   "metadata": {},
   "source": [
    "### Escape sequence\n",
    "\n",
    "여기서는 탈출 문자열에 대해서 간단히 정리한다. 참조만 하자.\n",
    "\n",
    "| escape code | Description |\n",
    "|-------------|-------------|\n",
    "|\\\\| 역슬래시 |\n",
    "|\\'| 작은 따옴표|\n",
    "|\\\"| 큰 따옴표|\n",
    "|\\a| 벨소리|\n",
    "|\\b| ascii 백스페이스|\n",
    "|\\r| carriage return|\n",
    "|\\t| tab |"
   ]
  },
  {
   "cell_type": "code",
   "execution_count": 18,
   "metadata": {
    "collapsed": false
   },
   "outputs": [
    {
     "ename": "SyntaxError",
     "evalue": "invalid syntax (<ipython-input-18-d53843d0e25f>, line 1)",
     "output_type": "error",
     "traceback": [
      "\u001b[0;36m  File \u001b[0;32m\"<ipython-input-18-d53843d0e25f>\"\u001b[0;36m, line \u001b[0;32m1\u001b[0m\n\u001b[0;31m    while True: for i in [\"/\",\"-\",\"|\",\"\\\\\",\"|\"]: print \"%s\\r\" % i,\u001b[0m\n\u001b[0m                  ^\u001b[0m\n\u001b[0;31mSyntaxError\u001b[0m\u001b[0;31m:\u001b[0m invalid syntax\n"
     ]
    }
   ],
   "source": []
  },
  {
   "cell_type": "code",
   "execution_count": null,
   "metadata": {
    "collapsed": true
   },
   "outputs": [],
   "source": []
  }
 ],
 "metadata": {
  "kernelspec": {
   "display_name": "Python 2",
   "language": "python",
   "name": "python2"
  },
  "language_info": {
   "codemirror_mode": {
    "name": "ipython",
    "version": 2
   },
   "file_extension": ".py",
   "mimetype": "text/x-python",
   "name": "python",
   "nbconvert_exporter": "python",
   "pygments_lexer": "ipython2",
   "version": "2.7.11"
  }
 },
 "nbformat": 4,
 "nbformat_minor": 0
}
