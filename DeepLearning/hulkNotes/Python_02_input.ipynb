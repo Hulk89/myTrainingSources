{
 "cells": [
  {
   "cell_type": "markdown",
   "metadata": {},
   "source": [
    "# Python 문법 - 02\n",
    "\n",
    "## raw_input()"
   ]
  },
  {
   "cell_type": "code",
   "execution_count": 2,
   "metadata": {
    "collapsed": false
   },
   "outputs": [
    {
     "name": "stdout",
     "output_type": "stream",
     "text": [
      "몇 살이죠 ?1\n",
      " 키는 얼마죠 ?2\n",
      " 몸무게는 얼마죠 ?3\n",
      " 네 , 나이는 '1' 살 , 키는 '2', 몸무게는 '3' 이네요 .\n",
      "뜬금없지만 , 태양의 각지름은 '32\\'10\"' 정도입니다 .\n"
     ]
    }
   ],
   "source": [
    "# -*- coding: utf-8 -*-\n",
    "\n",
    "print \"몇 살이죠 ?\", \n",
    "age = raw_input() \n",
    "print \"키는 얼마죠 ?\", \n",
    "height = raw_input() \n",
    "print \"몸무게는 얼마죠 ?\", \n",
    "weight = raw_input()\n",
    "\n",
    "print \"네 , 나이는 %r 살 , 키는 %r, 몸무게는 %r 이네요 .\" \\\n",
    "      % (age, height, weight) \n",
    "print \"뜬금없지만 , 태양의 각지름은 %r 정도입니다 .\" % '''32'10\"'''"
   ]
  },
  {
   "cell_type": "markdown",
   "metadata": {},
   "source": [
    "raw_input은 위와 같이 모두 문자열로 받아온다. 이를 정수로 받기 위해서는 다음과 같은 방법이 존재한다."
   ]
  },
  {
   "cell_type": "code",
   "execution_count": 7,
   "metadata": {
    "collapsed": false
   },
   "outputs": [
    {
     "name": "stdout",
     "output_type": "stream",
     "text": [
      "1\n",
      "1\n",
      "3\n",
      "3\n"
     ]
    }
   ],
   "source": [
    "x = int(raw_input())\n",
    "print \"%r\" %x\n",
    "x = input() # 책에서는 보안에 문제 있어서 쓰지 말라네...\n",
    "print \"%r\" %x"
   ]
  },
  {
   "cell_type": "markdown",
   "metadata": {},
   "source": [
    "### 한번에 printf + raw_input을 하고싶을 때...\n",
    "다음처럼 인자에 str을 넣으면 된다"
   ]
  },
  {
   "cell_type": "code",
   "execution_count": 10,
   "metadata": {
    "collapsed": false
   },
   "outputs": [
    {
     "name": "stdout",
     "output_type": "stream",
     "text": [
      "몇 살이죠 ? 1\n",
      "키는 얼마죠 ? 2\n",
      "몸무게는 얼마죠 ? 3\n",
      "네 , 나이는 '1' 살 , 키는 '2', 몸무게는 '3' 이네요 .\n",
      "뜬금없지만 , 태양의 각지름은 '32\\'10\"' 입니다 .\n"
     ]
    }
   ],
   "source": [
    "# -*- coding: utf-8 -*-\n",
    "\n",
    "age = raw_input(\"몇 살이죠 ? \") \n",
    "height = raw_input(\"키는 얼마죠 ? \") \n",
    "weight = raw_input(\"몸무게는 얼마죠 ? \")\n",
    "\n",
    "print \"네 , 나이는 %r 살 , 키는 %r, 몸무게는 %r 이네요 .\" % (\n",
    "age, height, weight) \n",
    "print \"뜬금없지만 , 태양의 각지름은 %r 입니다 .\" % '''32'10\"'''"
   ]
  },
  {
   "cell_type": "markdown",
   "metadata": {},
   "source": [
    "## argv\n",
    "parameter로 넘어오는 argument들은 다음과 같이 받을 수 있다.\n",
    "첫번째 인자는 스크립트 이름을 말하며, 두번째 인자부터 parameter가 넘어온다."
   ]
  },
  {
   "cell_type": "code",
   "execution_count": 1,
   "metadata": {
    "collapsed": false,
    "scrolled": true
   },
   "outputs": [
    {
     "name": "stdout",
     "output_type": "stream",
     "text": [
      "/anaconda/lib/python2.7/site-packages/ipykernel/__main__.py\n",
      "-f\n",
      "/Users/hyeongseokoh/Library/Jupyter/runtime/kernel-9fa743be-d896-41fc-b949-d40aee47916d.json\n"
     ]
    }
   ],
   "source": [
    "from sys import argv\n",
    "\n",
    "script, first, second = argv # argument들을 가져옴\n",
    "print script\n",
    "print first\n",
    "print second"
   ]
  },
  {
   "cell_type": "markdown",
   "metadata": {
    "collapsed": true
   },
   "source": [
    "## file open\n",
    "여기서는 적어놓기만할테니 붙여넣기로 써보자!\n",
    "### functions\n",
    "|functions|Description|\n",
    "|---|---|\n",
    "|close||\n",
    "|read||\n",
    "|readline||\n",
    "|truncate||\n",
    "|write||"
   ]
  },
  {
   "cell_type": "code",
   "execution_count": null,
   "metadata": {
    "collapsed": true
   },
   "outputs": [],
   "source": [
    "fileName = 'file.txt'\n",
    "txt = open(fileName)\n",
    "print txt.read()\n",
    "txt.close()"
   ]
  },
  {
   "cell_type": "code",
   "execution_count": null,
   "metadata": {
    "collapsed": true
   },
   "outputs": [],
   "source": []
  }
 ],
 "metadata": {
  "kernelspec": {
   "display_name": "Python 2",
   "language": "python",
   "name": "python2"
  },
  "language_info": {
   "codemirror_mode": {
    "name": "ipython",
    "version": 2
   },
   "file_extension": ".py",
   "mimetype": "text/x-python",
   "name": "python",
   "nbconvert_exporter": "python",
   "pygments_lexer": "ipython2",
   "version": "2.7.11"
  }
 },
 "nbformat": 4,
 "nbformat_minor": 0
}
